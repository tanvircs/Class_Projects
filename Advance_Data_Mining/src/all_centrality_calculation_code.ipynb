{
 "cells": [
  {
   "cell_type": "code",
   "execution_count": null,
   "metadata": {},
   "outputs": [],
   "source": [
    "import pandas as pd\n",
    "import scipy.io\n",
    "import networkx as nx\n",
    "import powerlaw\n",
    "import numpy as np\n",
    "import matplotlib as plt\n",
    "%matplotlib inline\n",
    "\n",
    "load_matlb = scipy.io.loadmat('Homo_sapiens.mat')\n",
    "netwk_file = load_matlb['network']\n",
    "\n",
    "src, target = netwk_file.nonzero()\n",
    "edge_list= zip(src.tolist(), target.tolist())\n",
    "\n",
    "G = nx.Graph(edge_list)\n",
    "\n",
    "degree_centrality = nx.degree_centrality(G)\n",
    "closeness_centrality = nx.closeness_centrality(G)\n",
    "betweenness_centrality = nx.betweenness_centrality(G)\n",
    "harmonic_centrality = nx.harmonic_centrality(G)\n",
    "eigen_vector_centrality= nx.eigenvector_centrality(G)\n",
    "clustering_coefficient = nx.clustering(G)\n",
    "page_rank = nx.pagerank(G)\n",
    "\n",
    "with open('final_output.txt','w') as p:\n",
    "    p.write(\"Node\"+' '+\"Dgre Cntrlty Val\"+' '+\"Closns Cntrlty Val\"+' '+\"Bwtns Cntrlty Val\"+' '+\"Hrmnc Cntrlty Val\"+' '+\"Egn Vctr Cntrlty Val\"+' '+\"Clstrg Cofcnt Val\"+' '+\"Pag Rnk Val \\n\")\n",
    "    for i in degree_centrality:\n",
    "        if i in closeness_centrality and betweenness_centrality and harmonic_centrality and eigen_vector_centrality and clustering_coefficient and page_rank:\n",
    "            p.write(str(i)+' '+str(degree_centrality[i])+' '+str(closeness_centrality[i])+' '+ str(betweenness_centrality[i])+' '+ str(harmonic_centrality[i])+' '+str(eigen_vector_centrality[i])+' '+str(clustering_coefficient[i])+' '+str(page_rank[i])+\"\\n\")"
   ]
  }
 ],
 "metadata": {
  "kernelspec": {
   "display_name": "Python 3",
   "language": "python",
   "name": "python3"
  },
  "language_info": {
   "codemirror_mode": {
    "name": "ipython",
    "version": 3
   },
   "file_extension": ".py",
   "mimetype": "text/x-python",
   "name": "python",
   "nbconvert_exporter": "python",
   "pygments_lexer": "ipython3",
   "version": "3.7.1"
  }
 },
 "nbformat": 4,
 "nbformat_minor": 2
}
