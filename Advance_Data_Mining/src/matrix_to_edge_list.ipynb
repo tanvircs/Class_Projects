{
 "cells": [
  {
   "cell_type": "code",
   "execution_count": null,
   "metadata": {},
   "outputs": [],
   "source": [
    "import pandas as pd\n",
    "import scipy.io\n",
    "import numpy as np\n",
    "import os\n",
    "import matplotlib.pyplot as plt\n",
    "\n",
    "load_matlb = scipy.io.loadmat('Homo_sapiens.mat')\n",
    "\n",
    "netwk_file = load_matlb['network']\n",
    "\n",
    "src, target = netwk_file.nonzero()\n",
    "edge_list= zip(src.tolist(), target.tolist())\n",
    "\n",
    "with open('final_edge_list.txt','w') as f:\n",
    "    for i in edge_list:\n",
    "        f.write(str(i[0])+\" \"+str(i[1])+\"\\n\")"
   ]
  }
 ],
 "metadata": {
  "kernelspec": {
   "display_name": "Python 3",
   "language": "python",
   "name": "python3"
  },
  "language_info": {
   "codemirror_mode": {
    "name": "ipython",
    "version": 3
   },
   "file_extension": ".py",
   "mimetype": "text/x-python",
   "name": "python",
   "nbconvert_exporter": "python",
   "pygments_lexer": "ipython3",
   "version": "3.7.1"
  }
 },
 "nbformat": 4,
 "nbformat_minor": 2
}
